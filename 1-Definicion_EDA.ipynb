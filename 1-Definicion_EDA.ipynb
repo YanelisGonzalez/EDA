{
 "cells": [
  {
   "cell_type": "markdown",
   "metadata": {},
   "source": [
    "![imagen](./img/ejercicios.png)"
   ]
  },
  {
   "cell_type": "markdown",
   "metadata": {},
   "source": [
    "# INFORMACIÓN DEL PROYECTO"
   ]
  },
  {
   "cell_type": "markdown",
   "metadata": {},
   "source": [
    "### TÍTULO"
   ]
  },
  {
   "cell_type": "code",
   "execution_count": 2,
   "metadata": {},
   "outputs": [],
   "source": [
    "#Escribe el título del proyecto en Markdown\n",
    "titulo = \" \""
   ]
  },
  {
   "cell_type": "markdown",
   "metadata": {},
   "source": [
    "Título:\n",
    "\"Tiroteos masivos\""
   ]
  },
  {
   "cell_type": "markdown",
   "metadata": {},
   "source": [
    "### TEMA"
   ]
  },
  {
   "cell_type": "code",
   "execution_count": 4,
   "metadata": {},
   "outputs": [],
   "source": [
    "# Describe brevemente el tema del proyecto en Markdown\n",
    "tema = \"\""
   ]
  },
  {
   "cell_type": "markdown",
   "metadata": {},
   "source": [
    "EE.UU es la nación que mas destaca en el mundo por la violencia cada vez mayor con armas de fuego. Uno de los escenarios favoritos para ejercer tal violencia son los colegios. Estos actos no solo generan heridos y victimas mortales, también dañan el bienestar de los sobrevivientes, sus familias y comunidades enteras. Con este proyecto se busca indagar brevemente en los posibles factores que ayudan a crear un terreno fértil para el desarrollo de estos eventos. Aunque el factor clave es el fácil acceso a armas de fuego. Me apoyaré en fuentes que proporcionan datos en tiempo real y ofrecen informes detallados con analisis estadísticos."
   ]
  },
  {
   "cell_type": "markdown",
   "metadata": {},
   "source": [
    "### HIPÓTESIS"
   ]
  },
  {
   "cell_type": "markdown",
   "metadata": {},
   "source": [
    "Define aquí lo que será la hipótesis de tu proyecto.\n",
    "Deberás tener más de una, pero tu proyecto lo harás teniendo una principal hipótesis."
   ]
  },
  {
   "cell_type": "code",
   "execution_count": 15,
   "metadata": {},
   "outputs": [],
   "source": [
    "# Escribe tu hipótesis principal en Markdown\n",
    "hipotesis_1 = \"\""
   ]
  },
  {
   "cell_type": "markdown",
   "metadata": {},
   "source": [
    "Hipótesis Principal: \n",
    "1.  La alta disponibilidad de armas de fuego está directamente correlacionada con la frecuencia de tiroteos masivos. \n",
    "\n",
    "Impacto cultural, la glorificación de la violencia en los medios de comunicación y la cultura popular, el consumo de contenido violento, como videojuegos constribuyen al aumento de los tiroteos masivos."
   ]
  },
  {
   "cell_type": "code",
   "execution_count": 17,
   "metadata": {},
   "outputs": [],
   "source": [
    "# Escribe más hipótesis si las hubiera en Markdown\n",
    "# hipotesis_2 = \"\"\n",
    "# hipotesis_3 = \"\"\n",
    "# hipotesis_4 = \"\"\n",
    "# hipotesis_5 = \"\"\n",
    "# ...\n"
   ]
  },
  {
   "cell_type": "markdown",
   "metadata": {},
   "source": [
    "2. Hipótesis Psicológicas: Un porcentaje significativo de los perpetradores de tiroteos masivos sufren de trastornos mentales diagnósticados o no.\n",
    "\n",
    "3. Hipótesis del aislamiento social: Los niveles altos de aislamiento social y problemas de integración, acoso escolar, están asociados con una mayor probabilidad de cometer tiroteos masivos.\n",
    "\n",
    "4. Hipótesis sociales y demográficas: Discriminación y odio(ideologías de odio y extremismo)\n",
    " "
   ]
  },
  {
   "cell_type": "markdown",
   "metadata": {},
   "source": [
    "## OBTENCIÓN DE LOS DATOS"
   ]
  },
  {
   "cell_type": "markdown",
   "metadata": {},
   "source": [
    "### DATASETS Y FUENTES ALTERNATIVAS DE DATOS"
   ]
  },
  {
   "cell_type": "markdown",
   "metadata": {},
   "source": [
    "Incluye aquí una vista del dataset o datasets de los que partirás para poder evaluar tu hipótesis. <br>\n",
    "También incluye el origen de estos datos y su fuente."
   ]
  },
  {
   "cell_type": "code",
   "execution_count": 21,
   "metadata": {},
   "outputs": [],
   "source": [
    "import pandas as pd\n",
    "# guarda en variables los datasets y su fuente\n",
    "df_1 = pd.DataFrame()\n",
    "fuente_1 = \"\"\n",
    "# df_2 = pd.DataFrame()\n",
    "# fuente_2 = \"\"\n",
    "# df_3 = pd.DataFrame()\n",
    "# fuente_3 = \"\"\n",
    "# df_4 = pd.DataFrame()\n",
    "# fuente_4 = \"\"\n",
    "# df_5 = pd.DataFrame()\n",
    "# fuente_5 = \"\"\n",
    "# ..."
   ]
  },
  {
   "cell_type": "markdown",
   "metadata": {},
   "source": [
    "Fuentes:\n",
    "Gun Violence Archive (GVA)\n",
    "everytown for Gun Safety\n",
    "K-12 School Shooting Database(Naval Postgraduate School)\n",
    "\n"
   ]
  },
  {
   "cell_type": "markdown",
   "metadata": {},
   "source": [
    "Muestra mediante un head() los principales datasets con los que vas a trabajar"
   ]
  },
  {
   "cell_type": "code",
   "execution_count": 12,
   "metadata": {},
   "outputs": [],
   "source": [
    "import pandas as pd"
   ]
  },
  {
   "cell_type": "code",
   "execution_count": 13,
   "metadata": {},
   "outputs": [
    {
     "name": "stdout",
     "output_type": "stream",
     "text": [
      "   Incident ID      Incident Date         State City Or County  \\\n",
      "0      3096143  December 17, 2024      Maryland         Towson   \n",
      "1      3094796  December 16, 2024     Wisconsin        Madison   \n",
      "2      3094534  December 15, 2024     Louisiana    New Orleans   \n",
      "3      3094383  December 15, 2024  Pennsylvania   Philadelphia   \n",
      "4      3094496  December 14, 2024         Texas        Houston   \n",
      "\n",
      "                      Address  Victims Killed  Victims Injured  \\\n",
      "0        8521 Loch Raven Blvd               1                8   \n",
      "1           4901 E Buckeye Rd               2                6   \n",
      "2           6100 Franklin Ave               2                2   \n",
      "3  400 block of E Wyoming Ave               1                4   \n",
      "4             10126 Jensen Dr               2                4   \n",
      "\n",
      "   Suspects Killed  Suspects Injured  Suspects Arrested  Operations  \n",
      "0                0                 0                  0         NaN  \n",
      "1                1                 0                  0         NaN  \n",
      "2                0                 0                  0         NaN  \n",
      "3                0                 0                  0         NaN  \n",
      "4                0                 0                  0         NaN  \n"
     ]
    }
   ],
   "source": [
    "# Primer dataset\n",
    "# df_1.head()\n",
    "\n",
    "url = (\"C:\\\\Users\\\\rfg2m\\\\Desktop\\\\EDA\\\\TIROTEOS\\\\Tiroteos masivos.csv\")\n",
    "tm = pd.read_csv(url)\n",
    "print(tm.head())"
   ]
  },
  {
   "cell_type": "code",
   "execution_count": 14,
   "metadata": {},
   "outputs": [
    {
     "name": "stdout",
     "output_type": "stream",
     "text": [
      "   Incident ID      Incident Date          State City Or County  \\\n",
      "0      3097961  December 19, 2024       New York          Bronx   \n",
      "1      3097953  December 19, 2024     California     Sacramento   \n",
      "2      3097879  December 19, 2024  Massachusetts    New Bedford   \n",
      "3      3097835  December 19, 2024        Arizona        Phoenix   \n",
      "4      3097725  December 19, 2024        Indiana           Gary   \n",
      "\n",
      "                       Address  Victims Killed  Victims Injured  \\\n",
      "0    E 175th St and Monroe Ave               1                0   \n",
      "1                 I-80 and I-5               0                1   \n",
      "2             85 Coggeshall St               0                1   \n",
      "3  N 32nd St and E Greenway Rd               1                0   \n",
      "4    1100 block of N Warren St               1                1   \n",
      "\n",
      "   Suspects Killed  Suspects Injured  Suspects Arrested  Operations  \n",
      "0                0                 0                  0         NaN  \n",
      "1                0                 0                  0         NaN  \n",
      "2                0                 0                  0         NaN  \n",
      "3                0                 0                  0         NaN  \n",
      "4                0                 0                  0         NaN  \n"
     ]
    }
   ],
   "source": [
    "# Siguiente dataset...\n",
    "# df_2.head()\n",
    "url = (\"C:\\\\Users\\\\rfg2m\\\\Desktop\\\\EDA\\\\TIROTEOS\\\\export-5bdc8b8b-ef73-4d5f-aab0-b61d9178f7ff.csv\")\n",
    "tmr = pd.read_csv(url)\n",
    "print(tmr.head())"
   ]
  },
  {
   "cell_type": "code",
   "execution_count": null,
   "metadata": {},
   "outputs": [],
   "source": []
  }
 ],
 "metadata": {
  "kernelspec": {
   "display_name": "Python 3",
   "language": "python",
   "name": "python3"
  },
  "language_info": {
   "codemirror_mode": {
    "name": "ipython",
    "version": 3
   },
   "file_extension": ".py",
   "mimetype": "text/x-python",
   "name": "python",
   "nbconvert_exporter": "python",
   "pygments_lexer": "ipython3",
   "version": "3.13.0"
  },
  "orig_nbformat": 4
 },
 "nbformat": 4,
 "nbformat_minor": 2
}
